{
 "cells": [
  {
   "cell_type": "code",
   "execution_count": 1,
   "metadata": {},
   "outputs": [],
   "source": [
    "import base64\n",
    "import requests"
   ]
  },
  {
   "cell_type": "code",
   "execution_count": 2,
   "metadata": {},
   "outputs": [],
   "source": [
    "client_id = '30388ab34d004f52b32ebcb8883c6249'\n",
    "client_secret = '12dc5ef4c83349e3b7a2cdd92fbd37a1'"
   ]
  },
  {
   "cell_type": "code",
   "execution_count": 3,
   "metadata": {},
   "outputs": [
    {
     "name": "stdout",
     "output_type": "stream",
     "text": [
      "Access Token: BQAnRoCiabzmoAg8nDteJIIay1gx7geDEM7vItTXljI7ENNQFDp1gPhPUjdCbDJ0xiFQFZwTWQWATNAJLEwaB_mJn8Tqbr270HUm87icEX8og7eu5HU\n"
     ]
    }
   ],
   "source": [
    "client_credentials = f\"{client_id}:{client_secret}\"\n",
    "client_credentials_b64 = base64.b64encode(client_credentials.encode()).decode('utf-8')\n",
    "\n",
    "auth_url = 'https://accounts.spotify.com/api/token'\n",
    "auth_headers = {\n",
    "    'Authorization': 'Basic ' + client_credentials_b64\n",
    "}\n",
    "auth_data = {\n",
    "    'grant_type': 'client_credentials'\n",
    "}\n",
    "\n",
    "response = requests.post(auth_url, headers=auth_headers, data=auth_data)\n",
    "if response.status_code == 200:\n",
    "    token = response.json().get('access_token')\n",
    "    print(f\"Access Token: {token}\")\n",
    "else:\n",
    "    print(\"Failed to retrieve access token\")\n"
   ]
  },
  {
   "cell_type": "code",
   "execution_count": 4,
   "metadata": {},
   "outputs": [
    {
     "data": {
      "text/plain": [
       "'BQAnRoCiabzmoAg8nDteJIIay1gx7geDEM7vItTXljI7ENNQFDp1gPhPUjdCbDJ0xiFQFZwTWQWATNAJLEwaB_mJn8Tqbr270HUm87icEX8og7eu5HU'"
      ]
     },
     "execution_count": 4,
     "metadata": {},
     "output_type": "execute_result"
    }
   ],
   "source": [
    "token"
   ]
  },
  {
   "cell_type": "code",
   "execution_count": 9,
   "metadata": {},
   "outputs": [],
   "source": [
    "import spotipy\n",
    "from spotipy.oauth2 import SpotifyClientCredentials\n",
    "\n",
    "SPOTIPY_CLIENT_ID = \"30388ab34d004f52b32ebcb8883c6249\"\n",
    "SPOTIPY_CLIENT_SECRET = \"12dc5ef4c83349e3b7a2cdd92fbd37a1\"\n",
    "\n",
    "auth_manager = SpotifyClientCredentials(client_id=SPOTIPY_CLIENT_ID, client_secret=SPOTIPY_CLIENT_SECRET)\n",
    "sp = spotipy.Spotify(auth_manager=auth_manager)"
   ]
  },
  {
   "cell_type": "code",
   "execution_count": 11,
   "metadata": {},
   "outputs": [
    {
     "name": "stdout",
     "output_type": "stream",
     "text": [
      "[{'danceability': 0.484, 'energy': 0.645, 'key': 8, 'loudness': -6.158, 'mode': 1, 'speechiness': 0.0364, 'acousticness': 0.0204, 'instrumentalness': 5.43e-06, 'liveness': 0.0775, 'valence': 0.513, 'tempo': 78.981, 'type': 'audio_features', 'id': '03xVqZVkPGboDVH4UzKgUn', 'uri': 'spotify:track:03xVqZVkPGboDVH4UzKgUn', 'track_href': 'https://api.spotify.com/v1/tracks/03xVqZVkPGboDVH4UzKgUn', 'analysis_url': 'https://api.spotify.com/v1/audio-analysis/03xVqZVkPGboDVH4UzKgUn', 'duration_ms': 293135, 'time_signature': 4}]\n"
     ]
    }
   ],
   "source": [
    "song_uri = \"spotify:track:03xVqZVkPGboDVH4UzKgUn\"\n",
    "audio_features = sp.audio_features(song_uri)\n",
    "\n",
    "# Print the audio features of the track\n",
    "print(audio_features)\n"
   ]
  }
 ],
 "metadata": {
  "kernelspec": {
   "display_name": "Python 3",
   "language": "python",
   "name": "python3"
  },
  "language_info": {
   "codemirror_mode": {
    "name": "ipython",
    "version": 3
   },
   "file_extension": ".py",
   "mimetype": "text/x-python",
   "name": "python",
   "nbconvert_exporter": "python",
   "pygments_lexer": "ipython3",
   "version": "3.10.10"
  }
 },
 "nbformat": 4,
 "nbformat_minor": 2
}
